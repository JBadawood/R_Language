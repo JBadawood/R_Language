{
  "nbformat": 4,
  "nbformat_minor": 0,
  "metadata": {
    "colab": {
      "provenance": [],
      "collapsed_sections": [
        "AKPEPy9y8_1-",
        "gfY-_ZQBy18_",
        "3f4kNAqf0GVz"
      ],
      "authorship_tag": "ABX9TyNe2Z6Z3L1itCaBSKYsP39p",
      "include_colab_link": true
    },
    "kernelspec": {
      "name": "ir",
      "display_name": "R"
    },
    "language_info": {
      "name": "R"
    },
    "gpuClass": "standard"
  },
  "cells": [
    {
      "cell_type": "markdown",
      "metadata": {
        "id": "view-in-github",
        "colab_type": "text"
      },
      "source": [
        "<a href=\"https://colab.research.google.com/github/JBadawood/R_Language/blob/main/The_R_Language.ipynb\" target=\"_parent\"><img src=\"https://colab.research.google.com/assets/colab-badge.svg\" alt=\"Open In Colab\"/></a>"
      ]
    },
    {
      "cell_type": "markdown",
      "source": [
        "# **Use R in Google Colab**\n",
        "https://www.kaggle.com/general/248438  \n",
        "\n",
        "https://colab.research.google.com/notebook#create=true&language=r  \n",
        "\n",
        "How to use R in Google Colab  \n",
        "https://towardsdatascience.com/how-to-use-r-in-google-colab-b6e02d736497  "
      ],
      "metadata": {
        "id": "YJQdVfqJthcA"
      }
    },
    {
      "cell_type": "markdown",
      "source": [
        "\n",
        "**R is a programming language**.\n",
        "\n",
        "R is often used for **statistical computing** and **graphical presentation** to *analyze* and **visualize data**.  \n",
        "https://www.w3schools.com/r/default.asp  \n",
        "https://www.programiz.com/r"
      ],
      "metadata": {
        "id": "q0uCM9HE2P_R"
      }
    },
    {
      "cell_type": "markdown",
      "source": [
        "ميزة اللغة أنها قريب من بايثون وراح نشوف ذلك أثناء التطبيق"
      ],
      "metadata": {
        "id": "NjZyVmXm17ie"
      }
    },
    {
      "cell_type": "code",
      "execution_count": null,
      "metadata": {
        "id": "Q-5t4KiTsrl2"
      },
      "outputs": [],
      "source": [
        "library(\"MASS\")"
      ]
    },
    {
      "cell_type": "code",
      "source": [
        "# 1/3\n",
        "fractions(0.333333)"
      ],
      "metadata": {
        "colab": {
          "base_uri": "https://localhost:8080/",
          "height": 34
        },
        "id": "jxNJXfumv1O2",
        "outputId": "64b1899a-9b09-4885-d800-4112f08f57e1"
      },
      "execution_count": null,
      "outputs": [
        {
          "output_type": "display_data",
          "data": {
            "text/html": [
              "1/3"
            ],
            "text/markdown": "1/3",
            "text/latex": "1/3",
            "text/plain": [
              "[1] 1/3"
            ]
          },
          "metadata": {}
        }
      ]
    },
    {
      "cell_type": "markdown",
      "source": [
        "## **1- The MontgomeryDAE package**\n",
        "Download this package from   \n",
        "https://github.com/ehassler/MontgomeryDAE/releases\n",
        "\n",
        "https://cran.r-project.org/web/views/ExperimentalDesign.html"
      ],
      "metadata": {
        "id": "g-glkuF-wZVB"
      }
    },
    {
      "cell_type": "markdown",
      "source": [
        "### Installation\n",
        "The packages from this task view can be installed automatically using the ctv package. For example,  \n",
        "`ctv::install.views(\"ExperimentalDesign\", coreOnly = TRUE)`  \n",
        "installs all the core packages or  \n",
        "`ctv::update.views(\"ExperimentalDesign\")` \n",
        "installs all packages that are not yet installed and up-to-date.\n",
        "\n",
        "https://github.com/cran-task-views/ctv/"
      ],
      "metadata": {
        "id": "AKPEPy9y8_1-"
      }
    },
    {
      "cell_type": "markdown",
      "source": [
        "\n",
        "\n",
        "```\n",
        "install.packages(\"ctv\")\n",
        "\n",
        "ctv::install.views(\"ExperimentalDesign\", coreOnly = TRUE)\n",
        "```\n",
        "\n"
      ],
      "metadata": {
        "id": "ZocDu1t2Apd5"
      }
    },
    {
      "cell_type": "markdown",
      "source": [
        "\n",
        "\n",
        "```\n",
        "install.packages(\"...path to MontgomeryDAE package...\", repos = NULL,\n",
        ",→ type = \"source\")\n",
        "\n",
        "```\n",
        "\n"
      ],
      "metadata": {
        "id": "VxLTEiJ2BdF_"
      }
    },
    {
      "cell_type": "code",
      "source": [
        "install.packages(\"https://github.com/ehassler/MontgomeryDAE/releases/download/10.1/MontgomeryDAE_10.1.tar.gz\", repos = NULL, type = \"source\")\n"
      ],
      "metadata": {
        "colab": {
          "base_uri": "https://localhost:8080/"
        },
        "id": "gAbG1svABcfd",
        "outputId": "b2d0c337-8f37-4612-bdca-c32522c6bd1a"
      },
      "execution_count": null,
      "outputs": [
        {
          "output_type": "stream",
          "name": "stderr",
          "text": [
            "Installing package into ‘/usr/local/lib/R/site-library’\n",
            "(as ‘lib’ is unspecified)\n",
            "\n"
          ]
        }
      ]
    },
    {
      "cell_type": "code",
      "source": [
        "help(package = \"MontgomeryDAE\")"
      ],
      "metadata": {
        "id": "lw1dHzi6xXwT"
      },
      "execution_count": null,
      "outputs": []
    },
    {
      "cell_type": "markdown",
      "source": [
        "## **2- Help in R**\n",
        "To get help with a function or package in R"
      ],
      "metadata": {
        "id": "gfY-_ZQBy18_"
      }
    },
    {
      "cell_type": "markdown",
      "source": [
        "enter a question mark followed by the name"
      ],
      "metadata": {
        "id": "lHrEYDZbzPw0"
      }
    },
    {
      "cell_type": "code",
      "source": [
        "?cat"
      ],
      "metadata": {
        "id": "VRjgBPKExcTC"
      },
      "execution_count": null,
      "outputs": []
    },
    {
      "cell_type": "code",
      "source": [
        "cat('hi')"
      ],
      "metadata": {
        "colab": {
          "base_uri": "https://localhost:8080/"
        },
        "id": "n6R2uA52zWuM",
        "outputId": "e26f03fd-3720-48b6-8a5f-ccaa68f61867"
      },
      "execution_count": null,
      "outputs": [
        {
          "output_type": "stream",
          "name": "stdout",
          "text": [
            "hi"
          ]
        }
      ]
    },
    {
      "cell_type": "code",
      "source": [
        "?print"
      ],
      "metadata": {
        "id": "KVikaZRjy_eQ"
      },
      "execution_count": null,
      "outputs": []
    },
    {
      "cell_type": "code",
      "source": [
        "print('hi')"
      ],
      "metadata": {
        "colab": {
          "base_uri": "https://localhost:8080/"
        },
        "id": "8QWj7LcFzEYk",
        "outputId": "43799a7e-17f6-4e91-fd9f-4d57fbcb1fe2"
      },
      "execution_count": null,
      "outputs": [
        {
          "output_type": "stream",
          "name": "stdout",
          "text": [
            "[1] \"hi\"\n"
          ]
        }
      ]
    },
    {
      "cell_type": "code",
      "source": [
        "print(class('hi'))"
      ],
      "metadata": {
        "colab": {
          "base_uri": "https://localhost:8080/"
        },
        "id": "a8YcRHBjzapz",
        "outputId": "ef70d4e7-87b7-4240-d157-846afe4f028c"
      },
      "execution_count": null,
      "outputs": [
        {
          "output_type": "stream",
          "name": "stdout",
          "text": [
            "[1] \"character\"\n"
          ]
        }
      ]
    },
    {
      "cell_type": "code",
      "source": [
        "12^2 + 1"
      ],
      "metadata": {
        "colab": {
          "base_uri": "https://localhost:8080/",
          "height": 34
        },
        "id": "DaXyHBByzqGP",
        "outputId": "a140d5ee-10a2-4e45-9b70-5d28c8ad0149"
      },
      "execution_count": null,
      "outputs": [
        {
          "output_type": "display_data",
          "data": {
            "text/html": [
              "145"
            ],
            "text/markdown": "145",
            "text/latex": "145",
            "text/plain": [
              "[1] 145"
            ]
          },
          "metadata": {}
        }
      ]
    },
    {
      "cell_type": "markdown",
      "source": [
        "## **3- Assignment to a variable**\n",
        "نقدر نعرف متغير بطريقتين في لغة R:\n",
        "- بعلامة `=`\n",
        "- أو علامة `<-`"
      ],
      "metadata": {
        "id": "3f4kNAqf0GVz"
      }
    },
    {
      "cell_type": "markdown",
      "source": [
        "using `<-`"
      ],
      "metadata": {
        "id": "siOqJnP800OS"
      }
    },
    {
      "cell_type": "code",
      "source": [
        "friends <- 1"
      ],
      "metadata": {
        "id": "9aKnBAiMzyXQ"
      },
      "execution_count": null,
      "outputs": []
    },
    {
      "cell_type": "code",
      "source": [
        "friends"
      ],
      "metadata": {
        "colab": {
          "base_uri": "https://localhost:8080/",
          "height": 34
        },
        "id": "SW2Kab2d0CLj",
        "outputId": "e966b864-bd2e-476a-8bbb-bea22de9e591"
      },
      "execution_count": null,
      "outputs": [
        {
          "output_type": "display_data",
          "data": {
            "text/html": [
              "1"
            ],
            "text/markdown": "1",
            "text/latex": "1",
            "text/plain": [
              "[1] 1"
            ]
          },
          "metadata": {}
        }
      ]
    },
    {
      "cell_type": "code",
      "source": [
        "friends + 1"
      ],
      "metadata": {
        "colab": {
          "base_uri": "https://localhost:8080/",
          "height": 34
        },
        "id": "FQnOHx9C0DmW",
        "outputId": "ec39b727-7b73-4b5e-954c-0b9f8987f4ae"
      },
      "execution_count": null,
      "outputs": [
        {
          "output_type": "display_data",
          "data": {
            "text/html": [
              "2"
            ],
            "text/markdown": "2",
            "text/latex": "2",
            "text/plain": [
              "[1] 2"
            ]
          },
          "metadata": {}
        }
      ]
    },
    {
      "cell_type": "markdown",
      "source": [
        "### another way\n",
        "Use of `=` is also very common"
      ],
      "metadata": {
        "id": "ccrUPyuR0Vjm"
      }
    },
    {
      "cell_type": "code",
      "source": [
        "friend = 1"
      ],
      "metadata": {
        "id": "68HmsDPB0P3z"
      },
      "execution_count": null,
      "outputs": []
    },
    {
      "cell_type": "code",
      "source": [
        "friend"
      ],
      "metadata": {
        "colab": {
          "base_uri": "https://localhost:8080/",
          "height": 34
        },
        "id": "y_jvY0Zn0gV4",
        "outputId": "96129fca-6351-4c20-fd9f-e28a4702bebb"
      },
      "execution_count": null,
      "outputs": [
        {
          "output_type": "display_data",
          "data": {
            "text/html": [
              "1"
            ],
            "text/markdown": "1",
            "text/latex": "1",
            "text/plain": [
              "[1] 1"
            ]
          },
          "metadata": {}
        }
      ]
    },
    {
      "cell_type": "code",
      "source": [
        "friend + 5"
      ],
      "metadata": {
        "colab": {
          "base_uri": "https://localhost:8080/",
          "height": 34
        },
        "id": "-XX847VF0hja",
        "outputId": "aa5c7e51-21a9-4876-da48-8f236b9f17c3"
      },
      "execution_count": null,
      "outputs": [
        {
          "output_type": "display_data",
          "data": {
            "text/html": [
              "6"
            ],
            "text/markdown": "6",
            "text/latex": "6",
            "text/plain": [
              "[1] 6"
            ]
          },
          "metadata": {}
        }
      ]
    },
    {
      "cell_type": "markdown",
      "source": [
        "## **4-Median**\n"
      ],
      "metadata": {
        "id": "nJ3lVGAK0SMs"
      }
    },
    {
      "cell_type": "code",
      "source": [
        "x <- c(1,5.5,9.5e-2)"
      ],
      "metadata": {
        "id": "0UOaDGmD0kAf"
      },
      "execution_count": 1,
      "outputs": []
    },
    {
      "cell_type": "code",
      "source": [
        "x"
      ],
      "metadata": {
        "colab": {
          "base_uri": "https://localhost:8080/",
          "height": 34
        },
        "id": "0cPU8E0B0qHQ",
        "outputId": "e7243baa-b7d2-456f-cae9-c480baa4e996"
      },
      "execution_count": 2,
      "outputs": [
        {
          "output_type": "display_data",
          "data": {
            "text/html": [
              "<style>\n",
              ".list-inline {list-style: none; margin:0; padding: 0}\n",
              ".list-inline>li {display: inline-block}\n",
              ".list-inline>li:not(:last-child)::after {content: \"\\00b7\"; padding: 0 .5ex}\n",
              "</style>\n",
              "<ol class=list-inline><li>1</li><li>5.5</li><li>0.095</li></ol>\n"
            ],
            "text/markdown": "1. 1\n2. 5.5\n3. 0.095\n\n\n",
            "text/latex": "\\begin{enumerate*}\n\\item 1\n\\item 5.5\n\\item 0.095\n\\end{enumerate*}\n",
            "text/plain": [
              "[1] 1.000 5.500 0.095"
            ]
          },
          "metadata": {}
        }
      ]
    },
    {
      "cell_type": "code",
      "source": [
        "median(x)"
      ],
      "metadata": {
        "colab": {
          "base_uri": "https://localhost:8080/",
          "height": 34
        },
        "id": "R9b7pSq20wQ5",
        "outputId": "79753089-6133-41b3-b130-b5ca5c004b70"
      },
      "execution_count": 3,
      "outputs": [
        {
          "output_type": "display_data",
          "data": {
            "text/html": [
              "1"
            ],
            "text/markdown": "1",
            "text/latex": "1",
            "text/plain": [
              "[1] 1"
            ]
          },
          "metadata": {}
        }
      ]
    },
    {
      "cell_type": "markdown",
      "source": [
        "طيب لوكانت البيانات فيها NA بيانات مفقودة هل نقدر نجيب الـ median ؟"
      ],
      "metadata": {
        "id": "6GEezGOX0-cB"
      }
    },
    {
      "cell_type": "code",
      "source": [
        "y <- c(1,5.5,9.5e-2, NA)"
      ],
      "metadata": {
        "id": "ViwkT5NM0zgg"
      },
      "execution_count": 4,
      "outputs": []
    },
    {
      "cell_type": "code",
      "source": [
        "median(y)"
      ],
      "metadata": {
        "colab": {
          "base_uri": "https://localhost:8080/",
          "height": 34
        },
        "id": "H829_gTl1NO5",
        "outputId": "d5fe4dd5-3372-4b9e-fd8f-00bd5b30f485"
      },
      "execution_count": 5,
      "outputs": [
        {
          "output_type": "display_data",
          "data": {
            "text/html": [
              "&lt;NA&gt;"
            ],
            "text/markdown": "&lt;NA&gt;",
            "text/latex": "<NA>",
            "text/plain": [
              "[1] NA"
            ]
          },
          "metadata": {}
        }
      ]
    },
    {
      "cell_type": "markdown",
      "source": [
        "> نلاحظ أنه ما نقدر لذلك لازم نشوف طريقة عشان نجاهل القيم المفقودة"
      ],
      "metadata": {
        "id": "vX20Pp4n1QBh"
      }
    },
    {
      "cell_type": "markdown",
      "source": [
        "### 4-1 Remove NA from data"
      ],
      "metadata": {
        "id": "3AEPFpxn1brI"
      }
    },
    {
      "cell_type": "code",
      "source": [
        "median(y, na.rm=TRUE)"
      ],
      "metadata": {
        "colab": {
          "base_uri": "https://localhost:8080/",
          "height": 34
        },
        "id": "5wkryVC41O83",
        "outputId": "c29261b1-9944-447f-cc48-36850f3ff8ff"
      },
      "execution_count": 6,
      "outputs": [
        {
          "output_type": "display_data",
          "data": {
            "text/html": [
              "1"
            ],
            "text/markdown": "1",
            "text/latex": "1",
            "text/plain": [
              "[1] 1"
            ]
          },
          "metadata": {}
        }
      ]
    },
    {
      "cell_type": "markdown",
      "source": [
        "## **5- Graph**"
      ],
      "metadata": {
        "id": "e1fcHvvq3Ha3"
      }
    },
    {
      "cell_type": "markdown",
      "source": [
        "نقدر نضيف plot بشكل سريع زي المثال التالي:"
      ],
      "metadata": {
        "id": "p6K9x32P3v2s"
      }
    },
    {
      "cell_type": "code",
      "source": [
        "plot(1:10)"
      ],
      "metadata": {
        "colab": {
          "base_uri": "https://localhost:8080/",
          "height": 437
        },
        "id": "BV_nk-X11rQ2",
        "outputId": "7db6c004-cee4-4b7b-8e76-4371811468bc"
      },
      "execution_count": 7,
      "outputs": [
        {
          "output_type": "display_data",
          "data": {
            "text/plain": [
              "plot without title"
            ],
            "image/png": "[encoded data removed]"
          },
          "metadata": {
            "image/png": {
              "width": 420,
              "height": 420
            }
          }
        }
      ]
    },
    {
      "cell_type": "markdown",
      "source": [
        "وهنا طريقة إضافة العنوان للرسم البياني مع أسماء المحاور"
      ],
      "metadata": {
        "id": "tBIr4SqH31z6"
      }
    },
    {
      "cell_type": "code",
      "source": [
        "plot(1:10, main=\"First Plot\", xlab='x-axis', ylab='y-axis')"
      ],
      "metadata": {
        "colab": {
          "base_uri": "https://localhost:8080/",
          "height": 437
        },
        "id": "FEIFBPPk3OxU",
        "outputId": "a3bb0c0c-a517-40a2-8588-834f880ddde8"
      },
      "execution_count": 9,
      "outputs": [
        {
          "output_type": "display_data",
          "data": {
            "text/plain": [
              "Plot with title “First Plot”"
            ],
            "image/png": "[encoded data removed]"
          },
          "metadata": {
            "image/png": {
              "width": 420,
              "height": 420
            }
          }
        }
      ]
    },
    {
      "cell_type": "code",
      "source": [],
      "metadata": {
        "id": "Y_YcA7Sk3ubA"
      },
      "execution_count": null,
      "outputs": []
    }
  ]
}