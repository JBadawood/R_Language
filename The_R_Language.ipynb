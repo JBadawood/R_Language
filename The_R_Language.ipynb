{
  "nbformat": 4,
  "nbformat_minor": 0,
  "metadata": {
    "colab": {
      "provenance": [],
      "authorship_tag": "ABX9TyMoy6b4buGfN4Tlu9I0w9Wn",
      "include_colab_link": true
    },
    "kernelspec": {
      "name": "ir",
      "display_name": "R"
    },
    "language_info": {
      "name": "R"
    },
    "gpuClass": "standard"
  },
  "cells": [
    {
      "cell_type": "markdown",
      "metadata": {
        "id": "view-in-github",
        "colab_type": "text"
      },
      "source": [
        "<a href=\"https://colab.research.google.com/github/JBadawood/R_Language/blob/main/The_R_Language.ipynb\" target=\"_parent\"><img src=\"https://colab.research.google.com/assets/colab-badge.svg\" alt=\"Open In Colab\"/></a>"
      ]
    },
    {
      "cell_type": "markdown",
      "source": [
        "# **Use R in Google Colab**\n",
        "https://www.kaggle.com/general/248438  \n",
        "\n",
        "https://colab.research.google.com/notebook#create=true&language=r  \n",
        "\n",
        "How to use R in Google Colab  \n",
        "https://towardsdatascience.com/how-to-use-r-in-google-colab-b6e02d736497  "
      ],
      "metadata": {
        "id": "YJQdVfqJthcA"
      }
    },
    {
      "cell_type": "markdown",
      "source": [
        "\n",
        "**R is a programming language**.\n",
        "\n",
        "R is often used for **statistical computing** and **graphical presentation** to *analyze* and **visualize data**.  \n",
        "https://www.w3schools.com/r/default.asp"
      ],
      "metadata": {
        "id": "q0uCM9HE2P_R"
      }
    },
    {
      "cell_type": "code",
      "execution_count": null,
      "metadata": {
        "id": "Q-5t4KiTsrl2"
      },
      "outputs": [],
      "source": [
        "library(\"MASS\")"
      ]
    },
    {
      "cell_type": "code",
      "source": [
        "# 1/3\n",
        "fractions(0.333333)"
      ],
      "metadata": {
        "colab": {
          "base_uri": "https://localhost:8080/",
          "height": 34
        },
        "id": "jxNJXfumv1O2",
        "outputId": "64b1899a-9b09-4885-d800-4112f08f57e1"
      },
      "execution_count": null,
      "outputs": [
        {
          "output_type": "display_data",
          "data": {
            "text/html": [
              "1/3"
            ],
            "text/markdown": "1/3",
            "text/latex": "1/3",
            "text/plain": [
              "[1] 1/3"
            ]
          },
          "metadata": {}
        }
      ]
    },
    {
      "cell_type": "markdown",
      "source": [
        "## **1- The MontgomeryDAE package**\n",
        "Download this package from   \n",
        "https://github.com/ehassler/MontgomeryDAE/releases"
      ],
      "metadata": {
        "id": "g-glkuF-wZVB"
      }
    },
    {
      "cell_type": "code",
      "source": [
        "install.packages(\"...path to MontgomeryDAE package...\", repos = NULL, type = \"source\")\n"
      ],
      "metadata": {
        "colab": {
          "base_uri": "https://localhost:8080/"
        },
        "id": "SbLTs9SgwDdc",
        "outputId": "40e7a19d-0f2d-472c-ebfe-bf1aa77cc339"
      },
      "execution_count": null,
      "outputs": [
        {
          "output_type": "stream",
          "name": "stderr",
          "text": [
            "Installing package into ‘/usr/local/lib/R/site-library’\n",
            "(as ‘lib’ is unspecified)\n",
            "\n",
            "Warning message in install.packages(\"...path to MontgomeryDAE package...\", repos = NULL, :\n",
            "“installation of package ‘...path to MontgomeryDAE package...’ had non-zero exit status”\n"
          ]
        }
      ]
    },
    {
      "cell_type": "code",
      "source": [
        "help(package = \"MontgomeryDAE\")"
      ],
      "metadata": {
        "colab": {
          "base_uri": "https://localhost:8080/",
          "height": 190
        },
        "id": "lw1dHzi6xXwT",
        "outputId": "4cf6a54a-2f89-47b9-90c7-e351bbe557db"
      },
      "execution_count": null,
      "outputs": [
        {
          "output_type": "error",
          "ename": "ERROR",
          "evalue": "ignored",
          "traceback": [
            "Error in find.package(pkgName, lib.loc, verbose = verbose): there is no package called ‘MontgomeryDAE’\nTraceback:\n",
            "1. help(package = \"MontgomeryDAE\")",
            "2. library(help = package, lib.loc = lib.loc, character.only = TRUE)",
            "3. find.package(pkgName, lib.loc, verbose = verbose)"
          ]
        }
      ]
    },
    {
      "cell_type": "markdown",
      "source": [
        "## **2- Help in R**\n",
        "To get help with a function or package in R"
      ],
      "metadata": {
        "id": "gfY-_ZQBy18_"
      }
    },
    {
      "cell_type": "markdown",
      "source": [
        "enter a question mark followed by the name"
      ],
      "metadata": {
        "id": "lHrEYDZbzPw0"
      }
    },
    {
      "cell_type": "code",
      "source": [
        "?cat"
      ],
      "metadata": {
        "id": "VRjgBPKExcTC"
      },
      "execution_count": null,
      "outputs": []
    },
    {
      "cell_type": "code",
      "source": [
        "cat('hi')"
      ],
      "metadata": {
        "colab": {
          "base_uri": "https://localhost:8080/"
        },
        "id": "n6R2uA52zWuM",
        "outputId": "e26f03fd-3720-48b6-8a5f-ccaa68f61867"
      },
      "execution_count": null,
      "outputs": [
        {
          "output_type": "stream",
          "name": "stdout",
          "text": [
            "hi"
          ]
        }
      ]
    },
    {
      "cell_type": "code",
      "source": [
        "?print"
      ],
      "metadata": {
        "id": "KVikaZRjy_eQ"
      },
      "execution_count": null,
      "outputs": []
    },
    {
      "cell_type": "code",
      "source": [
        "print('hi')"
      ],
      "metadata": {
        "colab": {
          "base_uri": "https://localhost:8080/"
        },
        "id": "8QWj7LcFzEYk",
        "outputId": "43799a7e-17f6-4e91-fd9f-4d57fbcb1fe2"
      },
      "execution_count": null,
      "outputs": [
        {
          "output_type": "stream",
          "name": "stdout",
          "text": [
            "[1] \"hi\"\n"
          ]
        }
      ]
    },
    {
      "cell_type": "code",
      "source": [
        "print(class('hi'))"
      ],
      "metadata": {
        "colab": {
          "base_uri": "https://localhost:8080/"
        },
        "id": "a8YcRHBjzapz",
        "outputId": "ef70d4e7-87b7-4240-d157-846afe4f028c"
      },
      "execution_count": null,
      "outputs": [
        {
          "output_type": "stream",
          "name": "stdout",
          "text": [
            "[1] \"character\"\n"
          ]
        }
      ]
    },
    {
      "cell_type": "code",
      "source": [
        "12^2 + 1"
      ],
      "metadata": {
        "colab": {
          "base_uri": "https://localhost:8080/",
          "height": 34
        },
        "id": "DaXyHBByzqGP",
        "outputId": "a140d5ee-10a2-4e45-9b70-5d28c8ad0149"
      },
      "execution_count": null,
      "outputs": [
        {
          "output_type": "display_data",
          "data": {
            "text/html": [
              "145"
            ],
            "text/markdown": "145",
            "text/latex": "145",
            "text/plain": [
              "[1] 145"
            ]
          },
          "metadata": {}
        }
      ]
    },
    {
      "cell_type": "markdown",
      "source": [
        "## **3- Assignment to a variable**\n",
        "نقدر نعرف متغير بطريقتين في لغة R:\n",
        "- بعلامة `=`\n",
        "- أو علامة `<-`"
      ],
      "metadata": {
        "id": "3f4kNAqf0GVz"
      }
    },
    {
      "cell_type": "markdown",
      "source": [
        "using `<-`"
      ],
      "metadata": {
        "id": "siOqJnP800OS"
      }
    },
    {
      "cell_type": "code",
      "source": [
        "friends <- 1"
      ],
      "metadata": {
        "id": "9aKnBAiMzyXQ"
      },
      "execution_count": null,
      "outputs": []
    },
    {
      "cell_type": "code",
      "source": [
        "friends"
      ],
      "metadata": {
        "colab": {
          "base_uri": "https://localhost:8080/",
          "height": 34
        },
        "id": "SW2Kab2d0CLj",
        "outputId": "e966b864-bd2e-476a-8bbb-bea22de9e591"
      },
      "execution_count": null,
      "outputs": [
        {
          "output_type": "display_data",
          "data": {
            "text/html": [
              "1"
            ],
            "text/markdown": "1",
            "text/latex": "1",
            "text/plain": [
              "[1] 1"
            ]
          },
          "metadata": {}
        }
      ]
    },
    {
      "cell_type": "code",
      "source": [
        "friends + 1"
      ],
      "metadata": {
        "colab": {
          "base_uri": "https://localhost:8080/",
          "height": 34
        },
        "id": "FQnOHx9C0DmW",
        "outputId": "ec39b727-7b73-4b5e-954c-0b9f8987f4ae"
      },
      "execution_count": null,
      "outputs": [
        {
          "output_type": "display_data",
          "data": {
            "text/html": [
              "2"
            ],
            "text/markdown": "2",
            "text/latex": "2",
            "text/plain": [
              "[1] 2"
            ]
          },
          "metadata": {}
        }
      ]
    },
    {
      "cell_type": "markdown",
      "source": [
        "### another way\n",
        "Use of `=` is also very common"
      ],
      "metadata": {
        "id": "ccrUPyuR0Vjm"
      }
    },
    {
      "cell_type": "code",
      "source": [
        "friend = 1"
      ],
      "metadata": {
        "id": "68HmsDPB0P3z"
      },
      "execution_count": null,
      "outputs": []
    },
    {
      "cell_type": "code",
      "source": [
        "friend"
      ],
      "metadata": {
        "colab": {
          "base_uri": "https://localhost:8080/",
          "height": 34
        },
        "id": "y_jvY0Zn0gV4",
        "outputId": "96129fca-6351-4c20-fd9f-e28a4702bebb"
      },
      "execution_count": null,
      "outputs": [
        {
          "output_type": "display_data",
          "data": {
            "text/html": [
              "1"
            ],
            "text/markdown": "1",
            "text/latex": "1",
            "text/plain": [
              "[1] 1"
            ]
          },
          "metadata": {}
        }
      ]
    },
    {
      "cell_type": "code",
      "source": [
        "friend + 5"
      ],
      "metadata": {
        "colab": {
          "base_uri": "https://localhost:8080/",
          "height": 34
        },
        "id": "-XX847VF0hja",
        "outputId": "aa5c7e51-21a9-4876-da48-8f236b9f17c3"
      },
      "execution_count": null,
      "outputs": [
        {
          "output_type": "display_data",
          "data": {
            "text/html": [
              "6"
            ],
            "text/markdown": "6",
            "text/latex": "6",
            "text/plain": [
              "[1] 6"
            ]
          },
          "metadata": {}
        }
      ]
    },
    {
      "cell_type": "code",
      "source": [],
      "metadata": {
        "id": "0UOaDGmD0kAf"
      },
      "execution_count": null,
      "outputs": []
    }
  ]
}