{
  "nbformat": 4,
  "nbformat_minor": 0,
  "metadata": {
    "colab": {
      "provenance": [],
      "collapsed_sections": [
        "AKPEPy9y8_1-",
        "gfY-_ZQBy18_",
        "3f4kNAqf0GVz",
        "nJ3lVGAK0SMs",
        "3AEPFpxn1brI",
        "e1fcHvvq3Ha3",
        "0_l-xBub6vKI",
        "-_-3VBe7QYIg"
      ],
      "authorship_tag": "ABX9TyNkUNsFPyggMkjOdjtzmMaF",
      "include_colab_link": true
    },
    "kernelspec": {
      "name": "ir",
      "display_name": "R"
    },
    "language_info": {
      "name": "R"
    },
    "gpuClass": "standard"
  },
  "cells": [
    {
      "cell_type": "markdown",
      "metadata": {
        "id": "view-in-github",
        "colab_type": "text"
      },
      "source": [
        "<a href=\"https://colab.research.google.com/github/JBadawood/R_Language/blob/main/The_R_Language.ipynb\" target=\"_parent\"><img src=\"https://colab.research.google.com/assets/colab-badge.svg\" alt=\"Open In Colab\"/></a>"
      ]
    },
    {
      "cell_type": "markdown",
      "source": [
        "# **Use R in Google Colab**\n",
        "https://www.kaggle.com/general/248438  \n",
        "\n",
        "https://colab.research.google.com/notebook#create=true&language=r  \n",
        "\n",
        "How to use R in Google Colab  \n",
        "https://towardsdatascience.com/how-to-use-r-in-google-colab-b6e02d736497  "
      ],
      "metadata": {
        "id": "YJQdVfqJthcA"
      }
    },
    {
      "cell_type": "markdown",
      "source": [
        "\n",
        "**R is a programming language**.\n",
        "\n",
        "R is often used for **statistical computing** and **graphical presentation** to *analyze* and **visualize data**.  \n",
        "https://www.w3schools.com/r/default.asp  \n",
        "https://www.programiz.com/r  \n",
        "https://www.statmethods.net/"
      ],
      "metadata": {
        "id": "q0uCM9HE2P_R"
      }
    },
    {
      "cell_type": "markdown",
      "source": [
        "ميزة اللغة أنها قريب من بايثون وراح نشوف ذلك أثناء التطبيق"
      ],
      "metadata": {
        "id": "NjZyVmXm17ie"
      }
    },
    {
      "cell_type": "markdown",
      "source": [
        "Resources:  \n",
        "[A (very) short introduction to R](https://cran.r-project.org/doc/contrib/Torfs+Brauer-Short-R-Intro.pdf)\n",
        "\n",
        "[R in Action | Data Analysis and Graphics with R](https://www.manning.com/books/r-in-action)\n",
        "\n",
        "\n"
      ],
      "metadata": {
        "id": "5VUOx9dj7m30"
      }
    },
    {
      "cell_type": "code",
      "execution_count": null,
      "metadata": {
        "id": "Q-5t4KiTsrl2"
      },
      "outputs": [],
      "source": [
        "library(\"MASS\")"
      ]
    },
    {
      "cell_type": "code",
      "source": [
        "# 1/3\n",
        "fractions(0.333333)"
      ],
      "metadata": {
        "colab": {
          "base_uri": "https://localhost:8080/",
          "height": 34
        },
        "id": "jxNJXfumv1O2",
        "outputId": "64b1899a-9b09-4885-d800-4112f08f57e1"
      },
      "execution_count": null,
      "outputs": [
        {
          "output_type": "display_data",
          "data": {
            "text/html": [
              "1/3"
            ],
            "text/markdown": "1/3",
            "text/latex": "1/3",
            "text/plain": [
              "[1] 1/3"
            ]
          },
          "metadata": {}
        }
      ]
    },
    {
      "cell_type": "markdown",
      "source": [
        "## **1- The MontgomeryDAE package**\n",
        "Download this package from   \n",
        "https://github.com/ehassler/MontgomeryDAE/releases\n",
        "\n",
        "https://cran.r-project.org/web/views/ExperimentalDesign.html"
      ],
      "metadata": {
        "id": "g-glkuF-wZVB"
      }
    },
    {
      "cell_type": "markdown",
      "source": [
        "### Installation\n",
        "The packages from this task view can be installed automatically using the ctv package. For example,  \n",
        "`ctv::install.views(\"ExperimentalDesign\", coreOnly = TRUE)`  \n",
        "installs all the core packages or  \n",
        "`ctv::update.views(\"ExperimentalDesign\")` \n",
        "installs all packages that are not yet installed and up-to-date.\n",
        "\n",
        "https://github.com/cran-task-views/ctv/"
      ],
      "metadata": {
        "id": "AKPEPy9y8_1-"
      }
    },
    {
      "cell_type": "markdown",
      "source": [
        "\n",
        "\n",
        "```\n",
        "install.packages(\"ctv\")\n",
        "\n",
        "ctv::install.views(\"ExperimentalDesign\", coreOnly = TRUE)\n",
        "```\n",
        "\n"
      ],
      "metadata": {
        "id": "ZocDu1t2Apd5"
      }
    },
    {
      "cell_type": "markdown",
      "source": [
        "\n",
        "\n",
        "```\n",
        "install.packages(\"...path to MontgomeryDAE package...\", repos = NULL,\n",
        ",→ type = \"source\")\n",
        "\n",
        "```\n",
        "\n"
      ],
      "metadata": {
        "id": "VxLTEiJ2BdF_"
      }
    },
    {
      "cell_type": "code",
      "source": [
        "install.packages(\"https://github.com/ehassler/MontgomeryDAE/releases/download/10.1/MontgomeryDAE_10.1.tar.gz\", repos = NULL, type = \"source\")\n"
      ],
      "metadata": {
        "colab": {
          "base_uri": "https://localhost:8080/"
        },
        "id": "gAbG1svABcfd",
        "outputId": "b2d0c337-8f37-4612-bdca-c32522c6bd1a"
      },
      "execution_count": null,
      "outputs": [
        {
          "output_type": "stream",
          "name": "stderr",
          "text": [
            "Installing package into ‘/usr/local/lib/R/site-library’\n",
            "(as ‘lib’ is unspecified)\n",
            "\n"
          ]
        }
      ]
    },
    {
      "cell_type": "code",
      "source": [
        "help(package = \"MontgomeryDAE\")"
      ],
      "metadata": {
        "id": "lw1dHzi6xXwT"
      },
      "execution_count": null,
      "outputs": []
    },
    {
      "cell_type": "markdown",
      "source": [
        "## **2- Help in R**\n",
        "To get help with a function or package in R"
      ],
      "metadata": {
        "id": "gfY-_ZQBy18_"
      }
    },
    {
      "cell_type": "markdown",
      "source": [
        "enter a question mark followed by the name"
      ],
      "metadata": {
        "id": "lHrEYDZbzPw0"
      }
    },
    {
      "cell_type": "code",
      "source": [
        "?cat"
      ],
      "metadata": {
        "id": "VRjgBPKExcTC"
      },
      "execution_count": null,
      "outputs": []
    },
    {
      "cell_type": "code",
      "source": [
        "cat('hi')"
      ],
      "metadata": {
        "colab": {
          "base_uri": "https://localhost:8080/"
        },
        "id": "n6R2uA52zWuM",
        "outputId": "e26f03fd-3720-48b6-8a5f-ccaa68f61867"
      },
      "execution_count": null,
      "outputs": [
        {
          "output_type": "stream",
          "name": "stdout",
          "text": [
            "hi"
          ]
        }
      ]
    },
    {
      "cell_type": "code",
      "source": [
        "?print"
      ],
      "metadata": {
        "id": "KVikaZRjy_eQ"
      },
      "execution_count": null,
      "outputs": []
    },
    {
      "cell_type": "code",
      "source": [
        "print('hi')"
      ],
      "metadata": {
        "colab": {
          "base_uri": "https://localhost:8080/"
        },
        "id": "8QWj7LcFzEYk",
        "outputId": "43799a7e-17f6-4e91-fd9f-4d57fbcb1fe2"
      },
      "execution_count": null,
      "outputs": [
        {
          "output_type": "stream",
          "name": "stdout",
          "text": [
            "[1] \"hi\"\n"
          ]
        }
      ]
    },
    {
      "cell_type": "code",
      "source": [
        "print(class('hi'))"
      ],
      "metadata": {
        "colab": {
          "base_uri": "https://localhost:8080/"
        },
        "id": "a8YcRHBjzapz",
        "outputId": "ef70d4e7-87b7-4240-d157-846afe4f028c"
      },
      "execution_count": null,
      "outputs": [
        {
          "output_type": "stream",
          "name": "stdout",
          "text": [
            "[1] \"character\"\n"
          ]
        }
      ]
    },
    {
      "cell_type": "code",
      "source": [
        "12^2 + 1"
      ],
      "metadata": {
        "colab": {
          "base_uri": "https://localhost:8080/",
          "height": 34
        },
        "id": "DaXyHBByzqGP",
        "outputId": "a140d5ee-10a2-4e45-9b70-5d28c8ad0149"
      },
      "execution_count": null,
      "outputs": [
        {
          "output_type": "display_data",
          "data": {
            "text/html": [
              "145"
            ],
            "text/markdown": "145",
            "text/latex": "145",
            "text/plain": [
              "[1] 145"
            ]
          },
          "metadata": {}
        }
      ]
    },
    {
      "cell_type": "markdown",
      "source": [
        "## **3- Assignment to a variable**\n",
        "نقدر نعرف متغير بطريقتين في لغة R:\n",
        "- بعلامة `=`\n",
        "- أو علامة `<-`"
      ],
      "metadata": {
        "id": "3f4kNAqf0GVz"
      }
    },
    {
      "cell_type": "markdown",
      "source": [
        "using `<-`"
      ],
      "metadata": {
        "id": "siOqJnP800OS"
      }
    },
    {
      "cell_type": "code",
      "source": [
        "friends <- 1"
      ],
      "metadata": {
        "id": "9aKnBAiMzyXQ"
      },
      "execution_count": null,
      "outputs": []
    },
    {
      "cell_type": "code",
      "source": [
        "friends"
      ],
      "metadata": {
        "colab": {
          "base_uri": "https://localhost:8080/",
          "height": 34
        },
        "id": "SW2Kab2d0CLj",
        "outputId": "e966b864-bd2e-476a-8bbb-bea22de9e591"
      },
      "execution_count": null,
      "outputs": [
        {
          "output_type": "display_data",
          "data": {
            "text/html": [
              "1"
            ],
            "text/markdown": "1",
            "text/latex": "1",
            "text/plain": [
              "[1] 1"
            ]
          },
          "metadata": {}
        }
      ]
    },
    {
      "cell_type": "code",
      "source": [
        "friends + 1"
      ],
      "metadata": {
        "colab": {
          "base_uri": "https://localhost:8080/",
          "height": 34
        },
        "id": "FQnOHx9C0DmW",
        "outputId": "ec39b727-7b73-4b5e-954c-0b9f8987f4ae"
      },
      "execution_count": null,
      "outputs": [
        {
          "output_type": "display_data",
          "data": {
            "text/html": [
              "2"
            ],
            "text/markdown": "2",
            "text/latex": "2",
            "text/plain": [
              "[1] 2"
            ]
          },
          "metadata": {}
        }
      ]
    },
    {
      "cell_type": "markdown",
      "source": [
        "### another way\n",
        "Use of `=` is also very common"
      ],
      "metadata": {
        "id": "ccrUPyuR0Vjm"
      }
    },
    {
      "cell_type": "code",
      "source": [
        "friend = 1"
      ],
      "metadata": {
        "id": "68HmsDPB0P3z"
      },
      "execution_count": null,
      "outputs": []
    },
    {
      "cell_type": "code",
      "source": [
        "friend"
      ],
      "metadata": {
        "colab": {
          "base_uri": "https://localhost:8080/",
          "height": 34
        },
        "id": "y_jvY0Zn0gV4",
        "outputId": "96129fca-6351-4c20-fd9f-e28a4702bebb"
      },
      "execution_count": null,
      "outputs": [
        {
          "output_type": "display_data",
          "data": {
            "text/html": [
              "1"
            ],
            "text/markdown": "1",
            "text/latex": "1",
            "text/plain": [
              "[1] 1"
            ]
          },
          "metadata": {}
        }
      ]
    },
    {
      "cell_type": "code",
      "source": [
        "friend + 5"
      ],
      "metadata": {
        "colab": {
          "base_uri": "https://localhost:8080/",
          "height": 34
        },
        "id": "-XX847VF0hja",
        "outputId": "aa5c7e51-21a9-4876-da48-8f236b9f17c3"
      },
      "execution_count": null,
      "outputs": [
        {
          "output_type": "display_data",
          "data": {
            "text/html": [
              "6"
            ],
            "text/markdown": "6",
            "text/latex": "6",
            "text/plain": [
              "[1] 6"
            ]
          },
          "metadata": {}
        }
      ]
    },
    {
      "cell_type": "markdown",
      "source": [
        "## **4-Median**\n"
      ],
      "metadata": {
        "id": "nJ3lVGAK0SMs"
      }
    },
    {
      "cell_type": "code",
      "source": [
        "x <- c(1,5.5,9.5e-2)"
      ],
      "metadata": {
        "id": "0UOaDGmD0kAf"
      },
      "execution_count": null,
      "outputs": []
    },
    {
      "cell_type": "code",
      "source": [
        "x"
      ],
      "metadata": {
        "colab": {
          "base_uri": "https://localhost:8080/",
          "height": 34
        },
        "id": "0cPU8E0B0qHQ",
        "outputId": "e7243baa-b7d2-456f-cae9-c480baa4e996"
      },
      "execution_count": null,
      "outputs": [
        {
          "output_type": "display_data",
          "data": {
            "text/html": [
              "<style>\n",
              ".list-inline {list-style: none; margin:0; padding: 0}\n",
              ".list-inline>li {display: inline-block}\n",
              ".list-inline>li:not(:last-child)::after {content: \"\\00b7\"; padding: 0 .5ex}\n",
              "</style>\n",
              "<ol class=list-inline><li>1</li><li>5.5</li><li>0.095</li></ol>\n"
            ],
            "text/markdown": "1. 1\n2. 5.5\n3. 0.095\n\n\n",
            "text/latex": "\\begin{enumerate*}\n\\item 1\n\\item 5.5\n\\item 0.095\n\\end{enumerate*}\n",
            "text/plain": [
              "[1] 1.000 5.500 0.095"
            ]
          },
          "metadata": {}
        }
      ]
    },
    {
      "cell_type": "code",
      "source": [
        "median(x)"
      ],
      "metadata": {
        "colab": {
          "base_uri": "https://localhost:8080/",
          "height": 34
        },
        "id": "R9b7pSq20wQ5",
        "outputId": "79753089-6133-41b3-b130-b5ca5c004b70"
      },
      "execution_count": null,
      "outputs": [
        {
          "output_type": "display_data",
          "data": {
            "text/html": [
              "1"
            ],
            "text/markdown": "1",
            "text/latex": "1",
            "text/plain": [
              "[1] 1"
            ]
          },
          "metadata": {}
        }
      ]
    },
    {
      "cell_type": "markdown",
      "source": [
        "طيب لوكانت البيانات فيها NA بيانات مفقودة هل نقدر نجيب الـ median ؟"
      ],
      "metadata": {
        "id": "6GEezGOX0-cB"
      }
    },
    {
      "cell_type": "code",
      "source": [
        "y <- c(1,5.5,9.5e-2, NA)"
      ],
      "metadata": {
        "id": "ViwkT5NM0zgg"
      },
      "execution_count": null,
      "outputs": []
    },
    {
      "cell_type": "code",
      "source": [
        "median(y)"
      ],
      "metadata": {
        "colab": {
          "base_uri": "https://localhost:8080/",
          "height": 34
        },
        "id": "H829_gTl1NO5",
        "outputId": "d5fe4dd5-3372-4b9e-fd8f-00bd5b30f485"
      },
      "execution_count": null,
      "outputs": [
        {
          "output_type": "display_data",
          "data": {
            "text/html": [
              "&lt;NA&gt;"
            ],
            "text/markdown": "&lt;NA&gt;",
            "text/latex": "<NA>",
            "text/plain": [
              "[1] NA"
            ]
          },
          "metadata": {}
        }
      ]
    },
    {
      "cell_type": "markdown",
      "source": [
        "> نلاحظ أنه ما نقدر لذلك لازم نشوف طريقة عشان نجاهل القيم المفقودة"
      ],
      "metadata": {
        "id": "vX20Pp4n1QBh"
      }
    },
    {
      "cell_type": "markdown",
      "source": [
        "### 4-1 Remove NA from data"
      ],
      "metadata": {
        "id": "3AEPFpxn1brI"
      }
    },
    {
      "cell_type": "code",
      "source": [
        "median(y, na.rm=TRUE)"
      ],
      "metadata": {
        "colab": {
          "base_uri": "https://localhost:8080/",
          "height": 34
        },
        "id": "5wkryVC41O83",
        "outputId": "c29261b1-9944-447f-cc48-36850f3ff8ff"
      },
      "execution_count": null,
      "outputs": [
        {
          "output_type": "display_data",
          "data": {
            "text/html": [
              "1"
            ],
            "text/markdown": "1",
            "text/latex": "1",
            "text/plain": [
              "[1] 1"
            ]
          },
          "metadata": {}
        }
      ]
    },
    {
      "cell_type": "markdown",
      "source": [
        "## **5- Graph**"
      ],
      "metadata": {
        "id": "e1fcHvvq3Ha3"
      }
    },
    {
      "cell_type": "markdown",
      "source": [
        "نقدر نضيف plot بشكل سريع زي المثال التالي:"
      ],
      "metadata": {
        "id": "p6K9x32P3v2s"
      }
    },
    {
      "cell_type": "code",
      "source": [
        "plot(1:10)"
      ],
      "metadata": {
        "colab": {
          "base_uri": "https://localhost:8080/",
          "height": 437
        },
        "id": "BV_nk-X11rQ2",
        "outputId": "7db6c004-cee4-4b7b-8e76-4371811468bc"
      },
      "execution_count": null,
      "outputs": [
        {
          "output_type": "display_data",
          "data": {
            "text/plain": [
              "plot without title"
            ],
            "image/png": "[encoded data removed]"
          },
          "metadata": {
            "image/png": {
              "width": 420,
              "height": 420
            }
          }
        }
      ]
    },
    {
      "cell_type": "markdown",
      "source": [
        "وهنا طريقة إضافة العنوان للرسم البياني مع أسماء المحاور"
      ],
      "metadata": {
        "id": "tBIr4SqH31z6"
      }
    },
    {
      "cell_type": "code",
      "source": [
        "plot(1:10, main=\"First Plot\", xlab='x-axis', ylab='y-axis')"
      ],
      "metadata": {
        "colab": {
          "base_uri": "https://localhost:8080/",
          "height": 437
        },
        "id": "FEIFBPPk3OxU",
        "outputId": "a3bb0c0c-a517-40a2-8588-834f880ddde8"
      },
      "execution_count": null,
      "outputs": [
        {
          "output_type": "display_data",
          "data": {
            "text/plain": [
              "Plot with title “First Plot”"
            ],
            "image/png": "[encoded data removed]"
          },
          "metadata": {
            "image/png": {
              "width": 420,
              "height": 420
            }
          }
        }
      ]
    },
    {
      "cell_type": "code",
      "source": [
        "plot(rnorm(100), type=\"l\", col='gold')"
      ],
      "metadata": {
        "colab": {
          "base_uri": "https://localhost:8080/",
          "height": 437
        },
        "id": "8JZE_d3K6ePz",
        "outputId": "05dbda1e-b430-418c-9d39-4038b9b04a28"
      },
      "execution_count": null,
      "outputs": [
        {
          "output_type": "display_data",
          "data": {
            "text/plain": [
              "plot without title"
            ],
            "image/png": "[encoded data removed]"
          },
          "metadata": {
            "image/png": {
              "width": 420,
              "height": 420
            }
          }
        }
      ]
    },
    {
      "cell_type": "markdown",
      "source": [
        "### 5-1 Histogram\n",
        "https://cran.r-project.org/doc/contrib/Torfs+Brauer-Short-R-Intro.pdf"
      ],
      "metadata": {
        "id": "0_l-xBub6vKI"
      }
    },
    {
      "cell_type": "code",
      "source": [
        "hist(rnorm(100))"
      ],
      "metadata": {
        "colab": {
          "base_uri": "https://localhost:8080/",
          "height": 437
        },
        "id": "Y_YcA7Sk3ubA",
        "outputId": "dd04a51a-3244-435a-e071-82b15e7e35f2"
      },
      "execution_count": null,
      "outputs": [
        {
          "output_type": "display_data",
          "data": {
            "text/plain": [
              "Plot with title “Histogram of rnorm(100)”"
            ],
            "image/png": "[encoded data removed]"
          },
          "metadata": {
            "image/png": {
              "width": 420,
              "height": 420
            }
          }
        }
      ]
    },
    {
      "cell_type": "markdown",
      "source": [
        "### 5-2 Example"
      ],
      "metadata": {
        "id": "-_-3VBe7QYIg"
      }
    },
    {
      "cell_type": "code",
      "source": [
        "temperatures <- c(25, 27, 24, 20, 15, 31, 38, 28, 22, 19)"
      ],
      "metadata": {
        "id": "3m4Upc2Q7Egp"
      },
      "execution_count": null,
      "outputs": []
    },
    {
      "cell_type": "code",
      "source": [
        "temperatures"
      ],
      "metadata": {
        "colab": {
          "base_uri": "https://localhost:8080/",
          "height": 34
        },
        "id": "Q73ZyCugQ7W9",
        "outputId": "f6cabf8a-7fc0-44fc-a2d3-29c3d1ad1389"
      },
      "execution_count": null,
      "outputs": [
        {
          "output_type": "display_data",
          "data": {
            "text/html": [
              "<style>\n",
              ".list-inline {list-style: none; margin:0; padding: 0}\n",
              ".list-inline>li {display: inline-block}\n",
              ".list-inline>li:not(:last-child)::after {content: \"\\00b7\"; padding: 0 .5ex}\n",
              "</style>\n",
              "<ol class=list-inline><li>25</li><li>27</li><li>24</li><li>20</li><li>15</li><li>31</li><li>38</li><li>28</li><li>22</li><li>19</li></ol>\n"
            ],
            "text/markdown": "1. 25\n2. 27\n3. 24\n4. 20\n5. 15\n6. 31\n7. 38\n8. 28\n9. 22\n10. 19\n\n\n",
            "text/latex": "\\begin{enumerate*}\n\\item 25\n\\item 27\n\\item 24\n\\item 20\n\\item 15\n\\item 31\n\\item 38\n\\item 28\n\\item 22\n\\item 19\n\\end{enumerate*}\n",
            "text/plain": [
              " [1] 25 27 24 20 15 31 38 28 22 19"
            ]
          },
          "metadata": {}
        }
      ]
    },
    {
      "cell_type": "code",
      "source": [
        "# Historgtam of temperatures vector\n",
        "temp <- hist(temperatures)\n",
        "\n",
        "temp"
      ],
      "metadata": {
        "colab": {
          "base_uri": "https://localhost:8080/",
          "height": 802
        },
        "id": "X_jPwg4aQ9ql",
        "outputId": "bb8ca406-5696-402a-9971-ec4228c9936c"
      },
      "execution_count": null,
      "outputs": [
        {
          "output_type": "display_data",
          "data": {
            "text/plain": [
              "$breaks\n",
              "[1] 15 20 25 30 35 40\n",
              "\n",
              "$counts\n",
              "[1] 3 3 2 1 1\n",
              "\n",
              "$density\n",
              "[1] 0.06 0.06 0.04 0.02 0.02\n",
              "\n",
              "$mids\n",
              "[1] 17.5 22.5 27.5 32.5 37.5\n",
              "\n",
              "$xname\n",
              "[1] \"temperatures\"\n",
              "\n",
              "$equidist\n",
              "[1] TRUE\n",
              "\n",
              "attr(,\"class\")\n",
              "[1] \"histogram\""
            ]
          },
          "metadata": {}
        },
        {
          "output_type": "display_data",
          "data": {
            "text/plain": [
              "Plot with title “Histogram of temperatures”"
            ],
            "image/png": "[encoded data removed]"
          },
          "metadata": {
            "image/png": {
              "width": 420,
              "height": 420
            }
          }
        }
      ]
    },
    {
      "cell_type": "markdown",
      "source": [
        "## **6- Analysis of Variance (ANOVA)**\n",
        "http://personality-project.org/r/r.guide/r.anova.html#oneway"
      ],
      "metadata": {
        "id": "AbWNsUflHn5j"
      }
    },
    {
      "cell_type": "markdown",
      "source": [
        "### 6-1 One Way ANOVA"
      ],
      "metadata": {
        "id": "SCNIP0opJEzl"
      }
    },
    {
      "cell_type": "markdown",
      "source": [
        "راح نكتبها في R بهذه الطريقة:  \n",
        "`aov(Response~Treatment, data)`"
      ],
      "metadata": {
        "id": "sJqHfqPRJR7Z"
      }
    },
    {
      "cell_type": "code",
      "source": [
        "# أولًا راح نستخرج البيانات من هنا\n",
        "DataFile = \"http://personality-project.org/R/datasets/R.appendix1.data\""
      ],
      "metadata": {
        "id": "gIV5sD7jRF70"
      },
      "execution_count": 1,
      "outputs": []
    },
    {
      "cell_type": "code",
      "source": [
        "# ثانيًا راح نقرأ البيانات عبر هذا الأمر\n",
        "data = read.table(DataFile)"
      ],
      "metadata": {
        "id": "wh_D8gF3INB3"
      },
      "execution_count": 2,
      "outputs": []
    },
    {
      "cell_type": "code",
      "source": [
        "data"
      ],
      "metadata": {
        "colab": {
          "base_uri": "https://localhost:8080/",
          "height": 693
        },
        "id": "8QiqM0b0ISJS",
        "outputId": "9a59e73b-a907-45ed-8d78-140ae0aaa2b7"
      },
      "execution_count": 3,
      "outputs": [
        {
          "output_type": "display_data",
          "data": {
            "text/html": [
              "<table class=\"dataframe\">\n",
              "<caption>A data.frame: 19 × 2</caption>\n",
              "<thead>\n",
              "\t<tr><th scope=col>V1</th><th scope=col>V2</th></tr>\n",
              "\t<tr><th scope=col>&lt;chr&gt;</th><th scope=col>&lt;chr&gt;</th></tr>\n",
              "</thead>\n",
              "<tbody>\n",
              "\t<tr><td>Dosage</td><td>Alertness</td></tr>\n",
              "\t<tr><td>a     </td><td>30       </td></tr>\n",
              "\t<tr><td>a     </td><td>38       </td></tr>\n",
              "\t<tr><td>a     </td><td>35       </td></tr>\n",
              "\t<tr><td>a     </td><td>41       </td></tr>\n",
              "\t<tr><td>a     </td><td>27       </td></tr>\n",
              "\t<tr><td>a     </td><td>24       </td></tr>\n",
              "\t<tr><td>b     </td><td>32       </td></tr>\n",
              "\t<tr><td>b     </td><td>26       </td></tr>\n",
              "\t<tr><td>b     </td><td>31       </td></tr>\n",
              "\t<tr><td>b     </td><td>29       </td></tr>\n",
              "\t<tr><td>b     </td><td>27       </td></tr>\n",
              "\t<tr><td>b     </td><td>35       </td></tr>\n",
              "\t<tr><td>b     </td><td>21       </td></tr>\n",
              "\t<tr><td>b     </td><td>25       </td></tr>\n",
              "\t<tr><td>c     </td><td>17       </td></tr>\n",
              "\t<tr><td>c     </td><td>21       </td></tr>\n",
              "\t<tr><td>c     </td><td>20       </td></tr>\n",
              "\t<tr><td>c     </td><td>19       </td></tr>\n",
              "</tbody>\n",
              "</table>\n"
            ],
            "text/markdown": "\nA data.frame: 19 × 2\n\n| V1 &lt;chr&gt; | V2 &lt;chr&gt; |\n|---|---|\n| Dosage | Alertness |\n| a      | 30        |\n| a      | 38        |\n| a      | 35        |\n| a      | 41        |\n| a      | 27        |\n| a      | 24        |\n| b      | 32        |\n| b      | 26        |\n| b      | 31        |\n| b      | 29        |\n| b      | 27        |\n| b      | 35        |\n| b      | 21        |\n| b      | 25        |\n| c      | 17        |\n| c      | 21        |\n| c      | 20        |\n| c      | 19        |\n\n",
            "text/latex": "A data.frame: 19 × 2\n\\begin{tabular}{ll}\n V1 & V2\\\\\n <chr> & <chr>\\\\\n\\hline\n\t Dosage & Alertness\\\\\n\t a      & 30       \\\\\n\t a      & 38       \\\\\n\t a      & 35       \\\\\n\t a      & 41       \\\\\n\t a      & 27       \\\\\n\t a      & 24       \\\\\n\t b      & 32       \\\\\n\t b      & 26       \\\\\n\t b      & 31       \\\\\n\t b      & 29       \\\\\n\t b      & 27       \\\\\n\t b      & 35       \\\\\n\t b      & 21       \\\\\n\t b      & 25       \\\\\n\t c      & 17       \\\\\n\t c      & 21       \\\\\n\t c      & 20       \\\\\n\t c      & 19       \\\\\n\\end{tabular}\n",
            "text/plain": [
              "   V1     V2       \n",
              "1  Dosage Alertness\n",
              "2  a      30       \n",
              "3  a      38       \n",
              "4  a      35       \n",
              "5  a      41       \n",
              "6  a      27       \n",
              "7  a      24       \n",
              "8  b      32       \n",
              "9  b      26       \n",
              "10 b      31       \n",
              "11 b      29       \n",
              "12 b      27       \n",
              "13 b      35       \n",
              "14 b      21       \n",
              "15 b      25       \n",
              "16 c      17       \n",
              "17 c      21       \n",
              "18 c      20       \n",
              "19 c      19       "
            ]
          },
          "metadata": {}
        }
      ]
    },
    {
      "cell_type": "code",
      "source": [
        "data1 = read.table(DataFile, header = T)"
      ],
      "metadata": {
        "id": "qT7HvtwkIw5q"
      },
      "execution_count": 4,
      "outputs": []
    },
    {
      "cell_type": "code",
      "source": [
        "data1"
      ],
      "metadata": {
        "colab": {
          "base_uri": "https://localhost:8080/",
          "height": 662
        },
        "id": "SgGudDc-I7lR",
        "outputId": "df245448-5b88-4348-9dd7-92d93ba2387c"
      },
      "execution_count": 5,
      "outputs": [
        {
          "output_type": "display_data",
          "data": {
            "text/html": [
              "<table class=\"dataframe\">\n",
              "<caption>A data.frame: 18 × 2</caption>\n",
              "<thead>\n",
              "\t<tr><th scope=col>Dosage</th><th scope=col>Alertness</th></tr>\n",
              "\t<tr><th scope=col>&lt;chr&gt;</th><th scope=col>&lt;int&gt;</th></tr>\n",
              "</thead>\n",
              "<tbody>\n",
              "\t<tr><td>a</td><td>30</td></tr>\n",
              "\t<tr><td>a</td><td>38</td></tr>\n",
              "\t<tr><td>a</td><td>35</td></tr>\n",
              "\t<tr><td>a</td><td>41</td></tr>\n",
              "\t<tr><td>a</td><td>27</td></tr>\n",
              "\t<tr><td>a</td><td>24</td></tr>\n",
              "\t<tr><td>b</td><td>32</td></tr>\n",
              "\t<tr><td>b</td><td>26</td></tr>\n",
              "\t<tr><td>b</td><td>31</td></tr>\n",
              "\t<tr><td>b</td><td>29</td></tr>\n",
              "\t<tr><td>b</td><td>27</td></tr>\n",
              "\t<tr><td>b</td><td>35</td></tr>\n",
              "\t<tr><td>b</td><td>21</td></tr>\n",
              "\t<tr><td>b</td><td>25</td></tr>\n",
              "\t<tr><td>c</td><td>17</td></tr>\n",
              "\t<tr><td>c</td><td>21</td></tr>\n",
              "\t<tr><td>c</td><td>20</td></tr>\n",
              "\t<tr><td>c</td><td>19</td></tr>\n",
              "</tbody>\n",
              "</table>\n"
            ],
            "text/markdown": "\nA data.frame: 18 × 2\n\n| Dosage &lt;chr&gt; | Alertness &lt;int&gt; |\n|---|---|\n| a | 30 |\n| a | 38 |\n| a | 35 |\n| a | 41 |\n| a | 27 |\n| a | 24 |\n| b | 32 |\n| b | 26 |\n| b | 31 |\n| b | 29 |\n| b | 27 |\n| b | 35 |\n| b | 21 |\n| b | 25 |\n| c | 17 |\n| c | 21 |\n| c | 20 |\n| c | 19 |\n\n",
            "text/latex": "A data.frame: 18 × 2\n\\begin{tabular}{ll}\n Dosage & Alertness\\\\\n <chr> & <int>\\\\\n\\hline\n\t a & 30\\\\\n\t a & 38\\\\\n\t a & 35\\\\\n\t a & 41\\\\\n\t a & 27\\\\\n\t a & 24\\\\\n\t b & 32\\\\\n\t b & 26\\\\\n\t b & 31\\\\\n\t b & 29\\\\\n\t b & 27\\\\\n\t b & 35\\\\\n\t b & 21\\\\\n\t b & 25\\\\\n\t c & 17\\\\\n\t c & 21\\\\\n\t c & 20\\\\\n\t c & 19\\\\\n\\end{tabular}\n",
            "text/plain": [
              "   Dosage Alertness\n",
              "1  a      30       \n",
              "2  a      38       \n",
              "3  a      35       \n",
              "4  a      41       \n",
              "5  a      27       \n",
              "6  a      24       \n",
              "7  b      32       \n",
              "8  b      26       \n",
              "9  b      31       \n",
              "10 b      29       \n",
              "11 b      27       \n",
              "12 b      35       \n",
              "13 b      21       \n",
              "14 b      25       \n",
              "15 c      17       \n",
              "16 c      21       \n",
              "17 c      20       \n",
              "18 c      19       "
            ]
          },
          "metadata": {}
        }
      ]
    },
    {
      "cell_type": "code",
      "source": [
        "# الأمر حق تحليل التباين هو كالتالي\n",
        "aov1 = aov(Alertness~Dosage,data=data1)"
      ],
      "metadata": {
        "id": "gSSjHA26I8cm"
      },
      "execution_count": 6,
      "outputs": []
    },
    {
      "cell_type": "code",
      "source": [
        "aov1"
      ],
      "metadata": {
        "colab": {
          "base_uri": "https://localhost:8080/",
          "height": 200
        },
        "id": "J0_9KEGoMJfU",
        "outputId": "c93a806f-8ab9-4418-838a-27cfd04b46f2"
      },
      "execution_count": 7,
      "outputs": [
        {
          "output_type": "display_data",
          "data": {
            "text/plain": [
              "Call:\n",
              "   aov(formula = Alertness ~ Dosage, data = data1)\n",
              "\n",
              "Terms:\n",
              "                Dosage Residuals\n",
              "Sum of Squares  426.25    363.75\n",
              "Deg. of Freedom      2        15\n",
              "\n",
              "Residual standard error: 4.924429\n",
              "Estimated effects may be unbalanced"
            ]
          },
          "metadata": {}
        }
      ]
    },
    {
      "cell_type": "code",
      "source": [
        "# عشان نشوف جدول ANOVA نكتب هذا الأمر\n",
        "summary(aov1)"
      ],
      "metadata": {
        "colab": {
          "base_uri": "https://localhost:8080/",
          "height": 108
        },
        "id": "37NK8qr-Le0x",
        "outputId": "95311ed6-09f2-43d9-cbe9-764ffec1e683"
      },
      "execution_count": 9,
      "outputs": [
        {
          "output_type": "display_data",
          "data": {
            "text/plain": [
              "            Df Sum Sq Mean Sq F value  Pr(>F)   \n",
              "Dosage       2  426.2  213.12   8.789 0.00298 **\n",
              "Residuals   15  363.7   24.25                   \n",
              "---\n",
              "Signif. codes:  0 ‘***’ 0.001 ‘**’ 0.01 ‘*’ 0.05 ‘.’ 0.1 ‘ ’ 1"
            ]
          },
          "metadata": {}
        }
      ]
    },
    {
      "cell_type": "code",
      "source": [
        "model.tables(aov1)"
      ],
      "metadata": {
        "colab": {
          "base_uri": "https://localhost:8080/",
          "height": 127
        },
        "id": "ekWqLSBYMQVB",
        "outputId": "dbd4c487-1657-4058-9e42-8a70ec3c428c"
      },
      "execution_count": 10,
      "outputs": [
        {
          "output_type": "display_data",
          "data": {
            "text/plain": [
              "Tables of effects\n",
              "\n",
              " Dosage \n",
              "        a      b      c\n",
              "    4.833 0.5833 -8.417\n",
              "rep 6.000 8.0000  4.000"
            ]
          },
          "metadata": {}
        }
      ]
    },
    {
      "cell_type": "code",
      "source": [
        "# طريقة إيجاد الـ Mean لكل level\n",
        "model.tables(aov1,\"means\")"
      ],
      "metadata": {
        "colab": {
          "base_uri": "https://localhost:8080/",
          "height": 181
        },
        "id": "pmbqmpRmNaPU",
        "outputId": "3c0d5e79-e888-4b27-ddb2-25a6b234a616"
      },
      "execution_count": 11,
      "outputs": [
        {
          "output_type": "display_data",
          "data": {
            "text/plain": [
              "Tables of means\n",
              "Grand mean\n",
              "         \n",
              "27.66667 \n",
              "\n",
              " Dosage \n",
              "       a     b     c\n",
              "    32.5 28.25 19.25\n",
              "rep  6.0  8.00  4.00"
            ]
          },
          "metadata": {}
        }
      ]
    },
    {
      "cell_type": "code",
      "source": [
        "# والآن نقدر نعرض البيانات بالـ boxplot\n",
        "boxplot(Alertness~Dosage, data=data1)"
      ],
      "metadata": {
        "colab": {
          "base_uri": "https://localhost:8080/",
          "height": 437
        },
        "id": "8DCsEu6vMott",
        "outputId": "cfe90974-7d91-4ca0-f5ed-f0c6c45201ce"
      },
      "execution_count": 12,
      "outputs": [
        {
          "output_type": "display_data",
          "data": {
            "text/plain": [
              "plot without title"
            ],
            "image/png": "[encoded data removed]"
          },
          "metadata": {
            "image/png": {
              "width": 420,
              "height": 420
            }
          }
        }
      ]
    },
    {
      "cell_type": "code",
      "source": [],
      "metadata": {
        "id": "usXIJuhyOI4h"
      },
      "execution_count": null,
      "outputs": []
    }
  ]
}